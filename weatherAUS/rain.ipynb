{
 "metadata": {
  "language_info": {
   "codemirror_mode": {
    "name": "ipython",
    "version": 3
   },
   "file_extension": ".py",
   "mimetype": "text/x-python",
   "name": "python",
   "nbconvert_exporter": "python",
   "pygments_lexer": "ipython3",
   "version": "3.8.5"
  },
  "orig_nbformat": 2,
  "kernelspec": {
   "name": "python3",
   "display_name": "Python 3",
   "language": "python"
  }
 },
 "nbformat": 4,
 "nbformat_minor": 2,
 "cells": [
  {
   "cell_type": "code",
   "execution_count": 102,
   "metadata": {},
   "outputs": [
    {
     "output_type": "execute_result",
     "data": {
      "text/plain": [
       "         Date Location  MinTemp  MaxTemp  Rainfall  Evaporation  Sunshine  \\\n",
       "0  2008-12-01   Albury     13.4     22.9       0.6          NaN       NaN   \n",
       "1  2008-12-02   Albury      7.4     25.1       0.0          NaN       NaN   \n",
       "2  2008-12-03   Albury     12.9     25.7       0.0          NaN       NaN   \n",
       "3  2008-12-04   Albury      9.2     28.0       0.0          NaN       NaN   \n",
       "4  2008-12-05   Albury     17.5     32.3       1.0          NaN       NaN   \n",
       "\n",
       "  WindGustDir  WindGustSpeed WindDir9am  ... Humidity9am  Humidity3pm  \\\n",
       "0           W           44.0          W  ...        71.0         22.0   \n",
       "1         WNW           44.0        NNW  ...        44.0         25.0   \n",
       "2         WSW           46.0          W  ...        38.0         30.0   \n",
       "3          NE           24.0         SE  ...        45.0         16.0   \n",
       "4           W           41.0        ENE  ...        82.0         33.0   \n",
       "\n",
       "   Pressure9am  Pressure3pm  Cloud9am  Cloud3pm  Temp9am  Temp3pm  RainToday  \\\n",
       "0       1007.7       1007.1       8.0       NaN     16.9     21.8         No   \n",
       "1       1010.6       1007.8       NaN       NaN     17.2     24.3         No   \n",
       "2       1007.6       1008.7       NaN       2.0     21.0     23.2         No   \n",
       "3       1017.6       1012.8       NaN       NaN     18.1     26.5         No   \n",
       "4       1010.8       1006.0       7.0       8.0     17.8     29.7         No   \n",
       "\n",
       "   RainTomorrow  \n",
       "0            No  \n",
       "1            No  \n",
       "2            No  \n",
       "3            No  \n",
       "4            No  \n",
       "\n",
       "[5 rows x 23 columns]"
      ],
      "text/html": "<div>\n<style scoped>\n    .dataframe tbody tr th:only-of-type {\n        vertical-align: middle;\n    }\n\n    .dataframe tbody tr th {\n        vertical-align: top;\n    }\n\n    .dataframe thead th {\n        text-align: right;\n    }\n</style>\n<table border=\"1\" class=\"dataframe\">\n  <thead>\n    <tr style=\"text-align: right;\">\n      <th></th>\n      <th>Date</th>\n      <th>Location</th>\n      <th>MinTemp</th>\n      <th>MaxTemp</th>\n      <th>Rainfall</th>\n      <th>Evaporation</th>\n      <th>Sunshine</th>\n      <th>WindGustDir</th>\n      <th>WindGustSpeed</th>\n      <th>WindDir9am</th>\n      <th>...</th>\n      <th>Humidity9am</th>\n      <th>Humidity3pm</th>\n      <th>Pressure9am</th>\n      <th>Pressure3pm</th>\n      <th>Cloud9am</th>\n      <th>Cloud3pm</th>\n      <th>Temp9am</th>\n      <th>Temp3pm</th>\n      <th>RainToday</th>\n      <th>RainTomorrow</th>\n    </tr>\n  </thead>\n  <tbody>\n    <tr>\n      <th>0</th>\n      <td>2008-12-01</td>\n      <td>Albury</td>\n      <td>13.4</td>\n      <td>22.9</td>\n      <td>0.6</td>\n      <td>NaN</td>\n      <td>NaN</td>\n      <td>W</td>\n      <td>44.0</td>\n      <td>W</td>\n      <td>...</td>\n      <td>71.0</td>\n      <td>22.0</td>\n      <td>1007.7</td>\n      <td>1007.1</td>\n      <td>8.0</td>\n      <td>NaN</td>\n      <td>16.9</td>\n      <td>21.8</td>\n      <td>No</td>\n      <td>No</td>\n    </tr>\n    <tr>\n      <th>1</th>\n      <td>2008-12-02</td>\n      <td>Albury</td>\n      <td>7.4</td>\n      <td>25.1</td>\n      <td>0.0</td>\n      <td>NaN</td>\n      <td>NaN</td>\n      <td>WNW</td>\n      <td>44.0</td>\n      <td>NNW</td>\n      <td>...</td>\n      <td>44.0</td>\n      <td>25.0</td>\n      <td>1010.6</td>\n      <td>1007.8</td>\n      <td>NaN</td>\n      <td>NaN</td>\n      <td>17.2</td>\n      <td>24.3</td>\n      <td>No</td>\n      <td>No</td>\n    </tr>\n    <tr>\n      <th>2</th>\n      <td>2008-12-03</td>\n      <td>Albury</td>\n      <td>12.9</td>\n      <td>25.7</td>\n      <td>0.0</td>\n      <td>NaN</td>\n      <td>NaN</td>\n      <td>WSW</td>\n      <td>46.0</td>\n      <td>W</td>\n      <td>...</td>\n      <td>38.0</td>\n      <td>30.0</td>\n      <td>1007.6</td>\n      <td>1008.7</td>\n      <td>NaN</td>\n      <td>2.0</td>\n      <td>21.0</td>\n      <td>23.2</td>\n      <td>No</td>\n      <td>No</td>\n    </tr>\n    <tr>\n      <th>3</th>\n      <td>2008-12-04</td>\n      <td>Albury</td>\n      <td>9.2</td>\n      <td>28.0</td>\n      <td>0.0</td>\n      <td>NaN</td>\n      <td>NaN</td>\n      <td>NE</td>\n      <td>24.0</td>\n      <td>SE</td>\n      <td>...</td>\n      <td>45.0</td>\n      <td>16.0</td>\n      <td>1017.6</td>\n      <td>1012.8</td>\n      <td>NaN</td>\n      <td>NaN</td>\n      <td>18.1</td>\n      <td>26.5</td>\n      <td>No</td>\n      <td>No</td>\n    </tr>\n    <tr>\n      <th>4</th>\n      <td>2008-12-05</td>\n      <td>Albury</td>\n      <td>17.5</td>\n      <td>32.3</td>\n      <td>1.0</td>\n      <td>NaN</td>\n      <td>NaN</td>\n      <td>W</td>\n      <td>41.0</td>\n      <td>ENE</td>\n      <td>...</td>\n      <td>82.0</td>\n      <td>33.0</td>\n      <td>1010.8</td>\n      <td>1006.0</td>\n      <td>7.0</td>\n      <td>8.0</td>\n      <td>17.8</td>\n      <td>29.7</td>\n      <td>No</td>\n      <td>No</td>\n    </tr>\n  </tbody>\n</table>\n<p>5 rows × 23 columns</p>\n</div>"
     },
     "metadata": {},
     "execution_count": 102
    }
   ],
   "source": [
    "import pandas as pd\n",
    "import numpy as np\n",
    "\n",
    "from sklearn.ensemble import ExtraTreesClassifier\n",
    "from sklearn.preprocessing import LabelEncoder\n",
    "from sklearn.metrics import accuracy_score\n",
    "from sklearn.model_selection import train_test_split\n",
    "\n",
    "from pandas.api.types import is_numeric_dtype\n",
    "import matplotlib.pyplot as plt\n",
    "\n",
    "orig = pd.read_csv('weatherAUS.csv')\n",
    "\n",
    "orig.head()"
   ]
  },
  {
   "cell_type": "code",
   "execution_count": 103,
   "metadata": {},
   "outputs": [
    {
     "output_type": "execute_result",
     "data": {
      "text/plain": [
       "   month Location  MinTemp  MaxTemp  Rainfall  Evaporation  Sunshine  \\\n",
       "0     12   Albury     13.4     22.9       0.6          NaN       NaN   \n",
       "1     12   Albury      7.4     25.1       0.0          NaN       NaN   \n",
       "2     12   Albury     12.9     25.7       0.0          NaN       NaN   \n",
       "3     12   Albury      9.2     28.0       0.0          NaN       NaN   \n",
       "4     12   Albury     17.5     32.3       1.0          NaN       NaN   \n",
       "\n",
       "  WindGustDir  WindGustSpeed WindDir9am  ... Humidity9am  Humidity3pm  \\\n",
       "0           W           44.0          W  ...        71.0         22.0   \n",
       "1         WNW           44.0        NNW  ...        44.0         25.0   \n",
       "2         WSW           46.0          W  ...        38.0         30.0   \n",
       "3          NE           24.0         SE  ...        45.0         16.0   \n",
       "4           W           41.0        ENE  ...        82.0         33.0   \n",
       "\n",
       "   Pressure9am  Pressure3pm  Cloud9am  Cloud3pm  Temp9am  Temp3pm  RainToday  \\\n",
       "0       1007.7       1007.1       8.0       NaN     16.9     21.8          0   \n",
       "1       1010.6       1007.8       NaN       NaN     17.2     24.3          0   \n",
       "2       1007.6       1008.7       NaN       2.0     21.0     23.2          0   \n",
       "3       1017.6       1012.8       NaN       NaN     18.1     26.5          0   \n",
       "4       1010.8       1006.0       7.0       8.0     17.8     29.7          0   \n",
       "\n",
       "   RainTomorrow  \n",
       "0             0  \n",
       "1             0  \n",
       "2             0  \n",
       "3             0  \n",
       "4             0  \n",
       "\n",
       "[5 rows x 23 columns]"
      ],
      "text/html": "<div>\n<style scoped>\n    .dataframe tbody tr th:only-of-type {\n        vertical-align: middle;\n    }\n\n    .dataframe tbody tr th {\n        vertical-align: top;\n    }\n\n    .dataframe thead th {\n        text-align: right;\n    }\n</style>\n<table border=\"1\" class=\"dataframe\">\n  <thead>\n    <tr style=\"text-align: right;\">\n      <th></th>\n      <th>month</th>\n      <th>Location</th>\n      <th>MinTemp</th>\n      <th>MaxTemp</th>\n      <th>Rainfall</th>\n      <th>Evaporation</th>\n      <th>Sunshine</th>\n      <th>WindGustDir</th>\n      <th>WindGustSpeed</th>\n      <th>WindDir9am</th>\n      <th>...</th>\n      <th>Humidity9am</th>\n      <th>Humidity3pm</th>\n      <th>Pressure9am</th>\n      <th>Pressure3pm</th>\n      <th>Cloud9am</th>\n      <th>Cloud3pm</th>\n      <th>Temp9am</th>\n      <th>Temp3pm</th>\n      <th>RainToday</th>\n      <th>RainTomorrow</th>\n    </tr>\n  </thead>\n  <tbody>\n    <tr>\n      <th>0</th>\n      <td>12</td>\n      <td>Albury</td>\n      <td>13.4</td>\n      <td>22.9</td>\n      <td>0.6</td>\n      <td>NaN</td>\n      <td>NaN</td>\n      <td>W</td>\n      <td>44.0</td>\n      <td>W</td>\n      <td>...</td>\n      <td>71.0</td>\n      <td>22.0</td>\n      <td>1007.7</td>\n      <td>1007.1</td>\n      <td>8.0</td>\n      <td>NaN</td>\n      <td>16.9</td>\n      <td>21.8</td>\n      <td>0</td>\n      <td>0</td>\n    </tr>\n    <tr>\n      <th>1</th>\n      <td>12</td>\n      <td>Albury</td>\n      <td>7.4</td>\n      <td>25.1</td>\n      <td>0.0</td>\n      <td>NaN</td>\n      <td>NaN</td>\n      <td>WNW</td>\n      <td>44.0</td>\n      <td>NNW</td>\n      <td>...</td>\n      <td>44.0</td>\n      <td>25.0</td>\n      <td>1010.6</td>\n      <td>1007.8</td>\n      <td>NaN</td>\n      <td>NaN</td>\n      <td>17.2</td>\n      <td>24.3</td>\n      <td>0</td>\n      <td>0</td>\n    </tr>\n    <tr>\n      <th>2</th>\n      <td>12</td>\n      <td>Albury</td>\n      <td>12.9</td>\n      <td>25.7</td>\n      <td>0.0</td>\n      <td>NaN</td>\n      <td>NaN</td>\n      <td>WSW</td>\n      <td>46.0</td>\n      <td>W</td>\n      <td>...</td>\n      <td>38.0</td>\n      <td>30.0</td>\n      <td>1007.6</td>\n      <td>1008.7</td>\n      <td>NaN</td>\n      <td>2.0</td>\n      <td>21.0</td>\n      <td>23.2</td>\n      <td>0</td>\n      <td>0</td>\n    </tr>\n    <tr>\n      <th>3</th>\n      <td>12</td>\n      <td>Albury</td>\n      <td>9.2</td>\n      <td>28.0</td>\n      <td>0.0</td>\n      <td>NaN</td>\n      <td>NaN</td>\n      <td>NE</td>\n      <td>24.0</td>\n      <td>SE</td>\n      <td>...</td>\n      <td>45.0</td>\n      <td>16.0</td>\n      <td>1017.6</td>\n      <td>1012.8</td>\n      <td>NaN</td>\n      <td>NaN</td>\n      <td>18.1</td>\n      <td>26.5</td>\n      <td>0</td>\n      <td>0</td>\n    </tr>\n    <tr>\n      <th>4</th>\n      <td>12</td>\n      <td>Albury</td>\n      <td>17.5</td>\n      <td>32.3</td>\n      <td>1.0</td>\n      <td>NaN</td>\n      <td>NaN</td>\n      <td>W</td>\n      <td>41.0</td>\n      <td>ENE</td>\n      <td>...</td>\n      <td>82.0</td>\n      <td>33.0</td>\n      <td>1010.8</td>\n      <td>1006.0</td>\n      <td>7.0</td>\n      <td>8.0</td>\n      <td>17.8</td>\n      <td>29.7</td>\n      <td>0</td>\n      <td>0</td>\n    </tr>\n  </tbody>\n</table>\n<p>5 rows × 23 columns</p>\n</div>"
     },
     "metadata": {},
     "execution_count": 103
    }
   ],
   "source": [
    "df = orig.copy()\n",
    "\n",
    "# YES/NO => 1/0\n",
    "df.RainTomorrow = df.RainTomorrow.map(lambda e: int(e == 'Yes'))\n",
    "df.RainToday = df.RainToday.map(lambda e: int(e == 'Yes'))\n",
    "\n",
    "# \"2020-03-04\" => [3], [4]\n",
    "month = df.Date.map(lambda e : e[5:7]).astype(int)\n",
    "date = df.Date.map(lambda e : e[8:]).astype(int)\n",
    "df.insert(value=month, column='month', loc=0)\n",
    "df.Date = date\n",
    "df = df.drop(columns=['Date'])\n",
    "\n",
    "df.head()"
   ]
  },
  {
   "cell_type": "code",
   "execution_count": 104,
   "metadata": {},
   "outputs": [
    {
     "output_type": "stream",
     "name": "stdout",
     "text": [
      "Location ['Adelaide' 'Albany' 'Albury' 'AliceSprings' 'BadgerysCreek' 'Ballarat'\n 'Bendigo' 'Brisbane' 'Cairns' 'Canberra' 'Cobar' 'CoffsHarbour'\n 'Dartmoor' 'Darwin' 'GoldCoast' 'Hobart' 'Katherine' 'Launceston'\n 'Melbourne' 'MelbourneAirport' 'Mildura' 'Moree' 'MountGambier'\n 'MountGinini' 'Newcastle' 'Nhil' 'NorahHead' 'NorfolkIsland' 'Nuriootpa'\n 'PearceRAAF' 'Penrith' 'Perth' 'PerthAirport' 'Portland' 'Richmond'\n 'Sale' 'SalmonGums' 'Sydney' 'SydneyAirport' 'Townsville' 'Tuggeranong'\n 'Uluru' 'WaggaWagga' 'Walpole' 'Watsonia' 'Williamtown' 'Witchcliffe'\n 'Wollongong' 'Woomera']\nWindGustDir ['E' 'ENE' 'ESE' 'N' 'NE' 'NNE' 'NNW' 'NW' 'S' 'SE' 'SSE' 'SSW' 'SW' 'W'\n 'WNW' 'WSW' nan]\nWindDir9am ['E' 'ENE' 'ESE' 'N' 'NE' 'NNE' 'NNW' 'NW' 'S' 'SE' 'SSE' 'SSW' 'SW' 'W'\n 'WNW' 'WSW' nan]\nWindDir3pm ['E' 'ENE' 'ESE' 'N' 'NE' 'NNE' 'NNW' 'NW' 'S' 'SE' 'SSE' 'SSW' 'SW' 'W'\n 'WNW' 'WSW' nan]\n"
     ]
    },
    {
     "output_type": "execute_result",
     "data": {
      "text/plain": [
       "   month  Location  MinTemp  MaxTemp  Rainfall  Evaporation  Sunshine  \\\n",
       "0     12         2     13.4     22.9       0.6          0.0       0.0   \n",
       "1     12         2      7.4     25.1       0.0          0.0       0.0   \n",
       "2     12         2     12.9     25.7       0.0          0.0       0.0   \n",
       "3     12         2      9.2     28.0       0.0          0.0       0.0   \n",
       "4     12         2     17.5     32.3       1.0          0.0       0.0   \n",
       "\n",
       "   WindGustDir  WindGustSpeed  WindDir9am  ...  Humidity9am  Humidity3pm  \\\n",
       "0           13           44.0          13  ...         71.0         22.0   \n",
       "1           14           44.0           6  ...         44.0         25.0   \n",
       "2           15           46.0          13  ...         38.0         30.0   \n",
       "3            4           24.0           9  ...         45.0         16.0   \n",
       "4           13           41.0           1  ...         82.0         33.0   \n",
       "\n",
       "   Pressure9am  Pressure3pm  Cloud9am  Cloud3pm  Temp9am  Temp3pm  RainToday  \\\n",
       "0       1007.7       1007.1       8.0       0.0     16.9     21.8          0   \n",
       "1       1010.6       1007.8       0.0       0.0     17.2     24.3          0   \n",
       "2       1007.6       1008.7       0.0       2.0     21.0     23.2          0   \n",
       "3       1017.6       1012.8       0.0       0.0     18.1     26.5          0   \n",
       "4       1010.8       1006.0       7.0       8.0     17.8     29.7          0   \n",
       "\n",
       "   RainTomorrow  \n",
       "0             0  \n",
       "1             0  \n",
       "2             0  \n",
       "3             0  \n",
       "4             0  \n",
       "\n",
       "[5 rows x 23 columns]"
      ],
      "text/html": "<div>\n<style scoped>\n    .dataframe tbody tr th:only-of-type {\n        vertical-align: middle;\n    }\n\n    .dataframe tbody tr th {\n        vertical-align: top;\n    }\n\n    .dataframe thead th {\n        text-align: right;\n    }\n</style>\n<table border=\"1\" class=\"dataframe\">\n  <thead>\n    <tr style=\"text-align: right;\">\n      <th></th>\n      <th>month</th>\n      <th>Location</th>\n      <th>MinTemp</th>\n      <th>MaxTemp</th>\n      <th>Rainfall</th>\n      <th>Evaporation</th>\n      <th>Sunshine</th>\n      <th>WindGustDir</th>\n      <th>WindGustSpeed</th>\n      <th>WindDir9am</th>\n      <th>...</th>\n      <th>Humidity9am</th>\n      <th>Humidity3pm</th>\n      <th>Pressure9am</th>\n      <th>Pressure3pm</th>\n      <th>Cloud9am</th>\n      <th>Cloud3pm</th>\n      <th>Temp9am</th>\n      <th>Temp3pm</th>\n      <th>RainToday</th>\n      <th>RainTomorrow</th>\n    </tr>\n  </thead>\n  <tbody>\n    <tr>\n      <th>0</th>\n      <td>12</td>\n      <td>2</td>\n      <td>13.4</td>\n      <td>22.9</td>\n      <td>0.6</td>\n      <td>0.0</td>\n      <td>0.0</td>\n      <td>13</td>\n      <td>44.0</td>\n      <td>13</td>\n      <td>...</td>\n      <td>71.0</td>\n      <td>22.0</td>\n      <td>1007.7</td>\n      <td>1007.1</td>\n      <td>8.0</td>\n      <td>0.0</td>\n      <td>16.9</td>\n      <td>21.8</td>\n      <td>0</td>\n      <td>0</td>\n    </tr>\n    <tr>\n      <th>1</th>\n      <td>12</td>\n      <td>2</td>\n      <td>7.4</td>\n      <td>25.1</td>\n      <td>0.0</td>\n      <td>0.0</td>\n      <td>0.0</td>\n      <td>14</td>\n      <td>44.0</td>\n      <td>6</td>\n      <td>...</td>\n      <td>44.0</td>\n      <td>25.0</td>\n      <td>1010.6</td>\n      <td>1007.8</td>\n      <td>0.0</td>\n      <td>0.0</td>\n      <td>17.2</td>\n      <td>24.3</td>\n      <td>0</td>\n      <td>0</td>\n    </tr>\n    <tr>\n      <th>2</th>\n      <td>12</td>\n      <td>2</td>\n      <td>12.9</td>\n      <td>25.7</td>\n      <td>0.0</td>\n      <td>0.0</td>\n      <td>0.0</td>\n      <td>15</td>\n      <td>46.0</td>\n      <td>13</td>\n      <td>...</td>\n      <td>38.0</td>\n      <td>30.0</td>\n      <td>1007.6</td>\n      <td>1008.7</td>\n      <td>0.0</td>\n      <td>2.0</td>\n      <td>21.0</td>\n      <td>23.2</td>\n      <td>0</td>\n      <td>0</td>\n    </tr>\n    <tr>\n      <th>3</th>\n      <td>12</td>\n      <td>2</td>\n      <td>9.2</td>\n      <td>28.0</td>\n      <td>0.0</td>\n      <td>0.0</td>\n      <td>0.0</td>\n      <td>4</td>\n      <td>24.0</td>\n      <td>9</td>\n      <td>...</td>\n      <td>45.0</td>\n      <td>16.0</td>\n      <td>1017.6</td>\n      <td>1012.8</td>\n      <td>0.0</td>\n      <td>0.0</td>\n      <td>18.1</td>\n      <td>26.5</td>\n      <td>0</td>\n      <td>0</td>\n    </tr>\n    <tr>\n      <th>4</th>\n      <td>12</td>\n      <td>2</td>\n      <td>17.5</td>\n      <td>32.3</td>\n      <td>1.0</td>\n      <td>0.0</td>\n      <td>0.0</td>\n      <td>13</td>\n      <td>41.0</td>\n      <td>1</td>\n      <td>...</td>\n      <td>82.0</td>\n      <td>33.0</td>\n      <td>1010.8</td>\n      <td>1006.0</td>\n      <td>7.0</td>\n      <td>8.0</td>\n      <td>17.8</td>\n      <td>29.7</td>\n      <td>0</td>\n      <td>0</td>\n    </tr>\n  </tbody>\n</table>\n<p>5 rows × 23 columns</p>\n</div>"
     },
     "metadata": {},
     "execution_count": 104
    }
   ],
   "source": [
    "# map string values to int enums\n",
    "labelEncoders = {}\n",
    "\n",
    "for col in df.columns:\n",
    "    if not is_numeric_dtype(df[col].dtype):\n",
    "        le = LabelEncoder()\n",
    "        le.fit(df[col])\n",
    "        df[col] = le.transform(df[col])\n",
    "\n",
    "        print(col, le.classes_)\n",
    "        labelEncoders[col] = le\n",
    "\n",
    "    df[col] = df[col].fillna(0)\n",
    "\n",
    "df.head()"
   ]
  },
  {
   "cell_type": "code",
   "execution_count": 105,
   "metadata": {},
   "outputs": [
    {
     "output_type": "execute_result",
     "data": {
      "text/plain": [
       "ExtraTreesClassifier(n_estimators=250, random_state=0)"
      ]
     },
     "metadata": {},
     "execution_count": 105
    }
   ],
   "source": [
    "# Train a decision tree to check feature importance\n",
    "forest = ExtraTreesClassifier(n_estimators=250,\n",
    "                              random_state=0)\n",
    "\n",
    "X = df.drop(columns=['RainTomorrow'])\n",
    "y = df.RainTomorrow\n",
    "\n",
    "forest.fit(X, y)\n"
   ]
  },
  {
   "cell_type": "code",
   "execution_count": 106,
   "metadata": {},
   "outputs": [
    {
     "output_type": "execute_result",
     "data": {
      "text/plain": [
       "    Ranking        Feature  Importance\n",
       "0         1          month    0.145094\n",
       "1         2       Location    0.058100\n",
       "2         3        MinTemp    0.055207\n",
       "3         4        MaxTemp    0.051953\n",
       "4         5       Rainfall    0.047399\n",
       "5         6    Evaporation    0.046060\n",
       "6         7       Sunshine    0.043001\n",
       "7         8    WindGustDir    0.042746\n",
       "8         9  WindGustSpeed    0.042496\n",
       "9        10     WindDir9am    0.040457\n",
       "10       11     WindDir3pm    0.039568\n",
       "11       12   WindSpeed9am    0.039391\n",
       "12       13   WindSpeed3pm    0.038654\n",
       "13       14    Humidity9am    0.037167\n",
       "14       15    Humidity3pm    0.037040\n",
       "15       16    Pressure9am    0.036445\n",
       "16       17    Pressure3pm    0.035850\n",
       "17       18       Cloud9am    0.035635\n",
       "18       19       Cloud3pm    0.035087\n",
       "19       20        Temp9am    0.034397\n",
       "20       21        Temp3pm    0.032130\n",
       "21       22      RainToday    0.026125"
      ],
      "text/html": "<div>\n<style scoped>\n    .dataframe tbody tr th:only-of-type {\n        vertical-align: middle;\n    }\n\n    .dataframe tbody tr th {\n        vertical-align: top;\n    }\n\n    .dataframe thead th {\n        text-align: right;\n    }\n</style>\n<table border=\"1\" class=\"dataframe\">\n  <thead>\n    <tr style=\"text-align: right;\">\n      <th></th>\n      <th>Ranking</th>\n      <th>Feature</th>\n      <th>Importance</th>\n    </tr>\n  </thead>\n  <tbody>\n    <tr>\n      <th>0</th>\n      <td>1</td>\n      <td>month</td>\n      <td>0.145094</td>\n    </tr>\n    <tr>\n      <th>1</th>\n      <td>2</td>\n      <td>Location</td>\n      <td>0.058100</td>\n    </tr>\n    <tr>\n      <th>2</th>\n      <td>3</td>\n      <td>MinTemp</td>\n      <td>0.055207</td>\n    </tr>\n    <tr>\n      <th>3</th>\n      <td>4</td>\n      <td>MaxTemp</td>\n      <td>0.051953</td>\n    </tr>\n    <tr>\n      <th>4</th>\n      <td>5</td>\n      <td>Rainfall</td>\n      <td>0.047399</td>\n    </tr>\n    <tr>\n      <th>5</th>\n      <td>6</td>\n      <td>Evaporation</td>\n      <td>0.046060</td>\n    </tr>\n    <tr>\n      <th>6</th>\n      <td>7</td>\n      <td>Sunshine</td>\n      <td>0.043001</td>\n    </tr>\n    <tr>\n      <th>7</th>\n      <td>8</td>\n      <td>WindGustDir</td>\n      <td>0.042746</td>\n    </tr>\n    <tr>\n      <th>8</th>\n      <td>9</td>\n      <td>WindGustSpeed</td>\n      <td>0.042496</td>\n    </tr>\n    <tr>\n      <th>9</th>\n      <td>10</td>\n      <td>WindDir9am</td>\n      <td>0.040457</td>\n    </tr>\n    <tr>\n      <th>10</th>\n      <td>11</td>\n      <td>WindDir3pm</td>\n      <td>0.039568</td>\n    </tr>\n    <tr>\n      <th>11</th>\n      <td>12</td>\n      <td>WindSpeed9am</td>\n      <td>0.039391</td>\n    </tr>\n    <tr>\n      <th>12</th>\n      <td>13</td>\n      <td>WindSpeed3pm</td>\n      <td>0.038654</td>\n    </tr>\n    <tr>\n      <th>13</th>\n      <td>14</td>\n      <td>Humidity9am</td>\n      <td>0.037167</td>\n    </tr>\n    <tr>\n      <th>14</th>\n      <td>15</td>\n      <td>Humidity3pm</td>\n      <td>0.037040</td>\n    </tr>\n    <tr>\n      <th>15</th>\n      <td>16</td>\n      <td>Pressure9am</td>\n      <td>0.036445</td>\n    </tr>\n    <tr>\n      <th>16</th>\n      <td>17</td>\n      <td>Pressure3pm</td>\n      <td>0.035850</td>\n    </tr>\n    <tr>\n      <th>17</th>\n      <td>18</td>\n      <td>Cloud9am</td>\n      <td>0.035635</td>\n    </tr>\n    <tr>\n      <th>18</th>\n      <td>19</td>\n      <td>Cloud3pm</td>\n      <td>0.035087</td>\n    </tr>\n    <tr>\n      <th>19</th>\n      <td>20</td>\n      <td>Temp9am</td>\n      <td>0.034397</td>\n    </tr>\n    <tr>\n      <th>20</th>\n      <td>21</td>\n      <td>Temp3pm</td>\n      <td>0.032130</td>\n    </tr>\n    <tr>\n      <th>21</th>\n      <td>22</td>\n      <td>RainToday</td>\n      <td>0.026125</td>\n    </tr>\n  </tbody>\n</table>\n</div>"
     },
     "metadata": {},
     "execution_count": 106
    }
   ],
   "source": [
    "importances = forest.feature_importances_\n",
    "\n",
    "std = np.std([tree.feature_importances_ for tree in forest.estimators_], axis=0)\n",
    "\n",
    "indices = np.argsort(importances)[::-1] # desc\n",
    "\n",
    "featureCnt = X.shape[1]\n",
    "\n",
    "impDetails = []\n",
    "\n",
    "for i in range(featureCnt):\n",
    "    featureName = df.columns[i]\n",
    "    impDetails.append([i + 1, featureName, importances[indices[i]]])\n",
    "    \n",
    "ftImp = pd.DataFrame(data=impDetails, columns=['Ranking', 'Feature', 'Importance'])\n",
    "\n",
    "ftImp"
   ]
  },
  {
   "cell_type": "code",
   "execution_count": 111,
   "metadata": {},
   "outputs": [
    {
     "output_type": "stream",
     "name": "stdout",
     "text": [
      "train:  (104731, 22)\nvalidation:  (11637, 22)\ntest:  (29092, 22)\n"
     ]
    },
    {
     "output_type": "execute_result",
     "data": {
      "text/plain": [
       "array([1, 0, 0, ..., 0, 1, 0], dtype=int64)"
      ]
     },
     "metadata": {},
     "execution_count": 111
    }
   ],
   "source": [
    "from sklearn.neural_network import MLPClassifier\n",
    "\n",
    "X_train, X_test, y_train, y_test = train_test_split(X, y, test_size=0.2, random_state=42)\n",
    "\n",
    "X_train, X_val, y_train, y_val = train_test_split(X_train, y_train, test_size=0.1, random_state=1)\n",
    "\n",
    "print('train: ', X_train.shape)\n",
    "print('validation: ', X_val.shape)\n",
    "print('test: ', X_test.shape)\n",
    "\n",
    "clf = MLPClassifier(alpha=1e-5, hidden_layer_sizes=(5, 2), random_state=1)\n",
    "clf.fit(X_train, y_train)"
   ]
  },
  {
   "cell_type": "code",
   "execution_count": 112,
   "metadata": {},
   "outputs": [
    {
     "output_type": "execute_result",
     "data": {
      "text/plain": [
       "0.8170974838443559"
      ]
     },
     "metadata": {},
     "execution_count": 112
    }
   ],
   "source": [
    "y_predict = clf.predict(X_test)\n",
    "accuracy_score(y_test, y_predict)"
   ]
  }
 ]
}